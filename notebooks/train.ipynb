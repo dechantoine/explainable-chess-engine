{
  "cells": [
    {
      "cell_type": "code",
      "execution_count": 1,
      "id": "initial_id",
      "metadata": {
        "ExecuteTime": {
          "end_time": "2024-04-18T15:46:15.251095Z",
          "start_time": "2024-04-18T15:46:14.754802Z"
        },
        "collapsed": true
      },
      "outputs": [],
      "source": [
        "import torch\n",
        "\n",
        "from src.data.dataset import ChessBoardDataset\n",
        "from src.train.train_utils import train_test_split, reward_fn"
      ]
    },
    {
      "cell_type": "code",
      "execution_count": 2,
      "id": "8c2e320613826e80",
      "metadata": {
        "ExecuteTime": {
          "end_time": "2024-04-18T15:46:18.977460Z",
          "start_time": "2024-04-18T15:46:16.117931Z"
        },
        "collapsed": false
      },
      "outputs": [],
      "source": [
        "dataset = ChessBoardDataset(root_dir='../sample_data',\n",
        "                            transform=True,\n",
        "                            return_moves=True,\n",
        "                            return_outcome=True,\n",
        "                            include_draws=False)"
      ]
    },
    {
      "cell_type": "code",
      "execution_count": 3,
      "id": "1eccf791fe1d864d",
      "metadata": {
        "ExecuteTime": {
          "end_time": "2024-04-18T15:46:37.520886Z",
          "start_time": "2024-04-18T15:46:37.143744Z"
        },
        "collapsed": false
      },
      "outputs": [],
      "source": [
        "train_dataset, test_dataset = train_test_split(dataset=dataset,\n",
        "                                               seed=0,\n",
        "                                               train_size=0.8)"
      ]
    },
    {
      "cell_type": "code",
      "execution_count": 4,
      "id": "132cabff6266e1cc",
      "metadata": {
        "ExecuteTime": {
          "end_time": "2024-04-18T15:46:38.377716Z",
          "start_time": "2024-04-18T15:46:38.375051Z"
        },
        "collapsed": false
      },
      "outputs": [],
      "source": [
        "train_dataloader = torch.utils.data.DataLoader(train_dataset,\n",
        "                                               batch_size=64,\n",
        "                                               shuffle=True,\n",
        "                                               collate_fn=lambda x: x)\n",
        "\n",
        "test_dataloader = torch.utils.data.DataLoader(test_dataset,\n",
        "                                              batch_size=64,\n",
        "                                              shuffle=True,\n",
        "                                              collate_fn=lambda x: x)"
      ]
    },
    {
      "cell_type": "code",
      "execution_count": 5,
      "id": "4293ef8d4ab99719",
      "metadata": {
        "ExecuteTime": {
          "end_time": "2024-04-18T15:46:40.246080Z",
          "start_time": "2024-04-18T15:46:39.672960Z"
        },
        "collapsed": false
      },
      "outputs": [
        {
          "name": "stderr",
          "output_type": "stream",
          "text": [
            "\u001b[32m2024-04-18 17:46:40.211\u001b[0m | \u001b[1mINFO    \u001b[0m | \u001b[36msrc.data.dataset\u001b[0m:\u001b[36m__getitems__\u001b[0m:\u001b[36m147\u001b[0m - \u001b[1mTransforming the boards to tensors...\u001b[0m\n",
            "100%|\u2588\u2588\u2588\u2588\u2588\u2588\u2588\u2588\u2588\u2588| 64/64 [00:00<00:00, 9891.86it/s]\n",
            "\u001b[32m2024-04-18 17:46:40.229\u001b[0m | \u001b[1mINFO    \u001b[0m | \u001b[36msrc.data.dataset\u001b[0m:\u001b[36m__getitems__\u001b[0m:\u001b[36m149\u001b[0m - \u001b[1mTransforming the legal moves to tensors...\u001b[0m\n",
            "100%|\u2588\u2588\u2588\u2588\u2588\u2588\u2588\u2588\u2588\u2588| 64/64 [00:00<00:00, 30219.01it/s]\n",
            "\u001b[32m2024-04-18 17:46:40.233\u001b[0m | \u001b[1mINFO    \u001b[0m | \u001b[36msrc.data.dataset\u001b[0m:\u001b[36m__getitems__\u001b[0m:\u001b[36m153\u001b[0m - \u001b[1mTransforming the outcomes to tensors...\u001b[0m\n",
            "100%|\u2588\u2588\u2588\u2588\u2588\u2588\u2588\u2588\u2588\u2588| 64/64 [00:00<00:00, 674460.94it/s]\n"
          ]
        }
      ],
      "source": [
        "train_boards, train_moves, train_outcomes = next(iter(train_dataloader))"
      ]
    },
    {
      "cell_type": "code",
      "execution_count": 6,
      "id": "1684ac6cb3f31ddd",
      "metadata": {
        "ExecuteTime": {
          "end_time": "2024-04-18T15:46:41.833600Z",
          "start_time": "2024-04-18T15:46:41.310545Z"
        },
        "collapsed": false
      },
      "outputs": [
        {
          "name": "stderr",
          "output_type": "stream",
          "text": [
            "\u001b[32m2024-04-18 17:46:41.819\u001b[0m | \u001b[1mINFO    \u001b[0m | \u001b[36msrc.data.dataset\u001b[0m:\u001b[36m__getitems__\u001b[0m:\u001b[36m147\u001b[0m - \u001b[1mTransforming the boards to tensors...\u001b[0m\n",
            "100%|\u2588\u2588\u2588\u2588\u2588\u2588\u2588\u2588\u2588\u2588| 64/64 [00:00<00:00, 10655.58it/s]\n",
            "\u001b[32m2024-04-18 17:46:41.827\u001b[0m | \u001b[1mINFO    \u001b[0m | \u001b[36msrc.data.dataset\u001b[0m:\u001b[36m__getitems__\u001b[0m:\u001b[36m149\u001b[0m - \u001b[1mTransforming the legal moves to tensors...\u001b[0m\n",
            "100%|\u2588\u2588\u2588\u2588\u2588\u2588\u2588\u2588\u2588\u2588| 64/64 [00:00<00:00, 53644.18it/s]\n",
            "\u001b[32m2024-04-18 17:46:41.829\u001b[0m | \u001b[1mINFO    \u001b[0m | \u001b[36msrc.data.dataset\u001b[0m:\u001b[36m__getitems__\u001b[0m:\u001b[36m153\u001b[0m - \u001b[1mTransforming the outcomes to tensors...\u001b[0m\n",
            "100%|\u2588\u2588\u2588\u2588\u2588\u2588\u2588\u2588\u2588\u2588| 64/64 [00:00<00:00, 958698.06it/s]\n"
          ]
        }
      ],
      "source": [
        "test_boards, test_moves, test_outcomes = next(iter(train_dataloader))"
      ]
    },
    {
      "cell_type": "code",
      "execution_count": 7,
      "id": "840a098ce1693425",
      "metadata": {
        "ExecuteTime": {
          "end_time": "2024-04-18T15:46:42.669587Z",
          "start_time": "2024-04-18T15:46:42.666863Z"
        },
        "collapsed": false
      },
      "outputs": [],
      "source": [
        "from loguru import logger"
      ]
    },
    {
      "cell_type": "code",
      "execution_count": 8,
      "id": "8b6b05d3016c9021",
      "metadata": {
        "ExecuteTime": {
          "end_time": "2024-04-18T15:46:43.487654Z",
          "start_time": "2024-04-18T15:46:43.483204Z"
        },
        "collapsed": false
      },
      "outputs": [],
      "source": [
        "class NeuralNetwork(torch.nn.Module):\n",
        "    def __init__(self):\n",
        "        super().__init__()\n",
        "        self.flatten = torch.nn.Flatten()\n",
        "        self.linear_relu_stack = torch.nn.Sequential(\n",
        "            torch.nn.Linear(12*8*8, 12*8),\n",
        "            torch.nn.ReLU(),\n",
        "            torch.nn.Linear(12*8, 12),\n",
        "            torch.nn.ReLU(),\n",
        "            torch.nn.Linear(12, 1),\n",
        "            torch.nn.Tanh()\n",
        "        )\n",
        "\n",
        "    def forward(self, x):\n",
        "        x = x.float()       \n",
        "        x = self.flatten(x)\n",
        "        score = self.linear_relu_stack(x)\n",
        "        return score"
      ]
    },
    {
      "cell_type": "code",
      "execution_count": 9,
      "id": "3e2569098b9e953e",
      "metadata": {
        "ExecuteTime": {
          "end_time": "2024-04-18T15:46:44.412898Z",
          "start_time": "2024-04-18T15:46:44.409814Z"
        },
        "collapsed": false
      },
      "outputs": [],
      "source": [
        "model = NeuralNetwork()"
      ]
    },
    {
      "cell_type": "code",
      "execution_count": 10,
      "id": "4dfa16c118de19dc",
      "metadata": {
        "ExecuteTime": {
          "end_time": "2024-04-09T07:34:39.500950Z",
          "start_time": "2024-04-09T07:34:39.471639Z"
        },
        "collapsed": false
      },
      "outputs": [
        {
          "data": {
            "text/plain": "tensor([[0.1707],\n        [0.1681],\n        [0.1729],\n        [0.1636],\n        [0.1679],\n        [0.1622],\n        [0.1625],\n        [0.1652],\n        [0.1802],\n        [0.1695],\n        [0.1621],\n        [0.1833],\n        [0.1648],\n        [0.1560],\n        [0.1629],\n        [0.1582],\n        [0.1726],\n        [0.1819],\n        [0.1671],\n        [0.1734],\n        [0.1734],\n        [0.1719],\n        [0.1608],\n        [0.1638],\n        [0.1642],\n        [0.1561],\n        [0.1756],\n        [0.1601],\n        [0.1699],\n        [0.1769],\n        [0.1752],\n        [0.1723],\n        [0.1826],\n        [0.1847],\n        [0.1782],\n        [0.1668],\n        [0.1666],\n        [0.1806],\n        [0.1662],\n        [0.1637],\n        [0.1627],\n        [0.1720],\n        [0.1646],\n        [0.1591],\n        [0.1658],\n        [0.1798],\n        [0.1549],\n        [0.1717],\n        [0.1617],\n        [0.1700],\n        [0.1780],\n        [0.1795],\n        [0.1681],\n        [0.1618],\n        [0.1600],\n        [0.1707],\n        [0.1654],\n        [0.1814],\n        [0.1653],\n        [0.1729],\n        [0.1798],\n        [0.1678],\n        [0.1669],\n        [0.1754]], grad_fn=<TanhBackward0>)"
          },
          "execution_count": 10,
          "metadata": {},
          "output_type": "execute_result"
        }
      ],
      "source": [
        "model(train_boards)"
      ]
    },
    {
      "cell_type": "code",
      "execution_count": 11,
      "id": "ddf2fbc40d48dfec",
      "metadata": {
        "ExecuteTime": {
          "end_time": "2024-04-09T07:35:35.430618Z",
          "start_time": "2024-04-09T07:35:35.420182Z"
        },
        "collapsed": false
      },
      "outputs": [],
      "source": [
        "loss = torch.nn.MSELoss()"
      ]
    },
    {
      "cell_type": "code",
      "execution_count": 12,
      "id": "82bf3117873148f5",
      "metadata": {
        "ExecuteTime": {
          "end_time": "2024-04-09T07:38:57.170282Z",
          "start_time": "2024-04-09T07:38:56.642673Z"
        },
        "collapsed": false
      },
      "outputs": [],
      "source": [
        "optimizer = torch.optim.Adagrad(model.parameters(), lr=0.01)"
      ]
    },
    {
      "cell_type": "code",
      "execution_count": 14,
      "id": "8be459b669293960",
      "metadata": {
        "ExecuteTime": {
          "end_time": "2024-04-09T08:05:13.866798Z",
          "start_time": "2024-04-09T08:03:53.260856Z"
        },
        "collapsed": false
      },
      "outputs": [
        {
          "name": "stderr",
          "output_type": "stream",
          "text": [
            "\u001b[32m2024-04-09 10:04:36.940\u001b[0m | \u001b[1mINFO    \u001b[0m | \u001b[36msrc.data.dataset\u001b[0m:\u001b[36m__getitems__\u001b[0m:\u001b[36m147\u001b[0m - \u001b[1mTransforming the boards to tensors...\u001b[0m\n",
            "100%|\u2588\u2588\u2588\u2588\u2588\u2588\u2588\u2588\u2588\u2588| 64/64 [00:00<00:00, 10502.17it/s]\n",
            "\u001b[32m2024-04-09 10:04:36.948\u001b[0m | \u001b[1mINFO    \u001b[0m | \u001b[36msrc.data.dataset\u001b[0m:\u001b[36m__getitems__\u001b[0m:\u001b[36m149\u001b[0m - \u001b[1mTransforming the legal moves to tensors...\u001b[0m\n",
            "100%|\u2588\u2588\u2588\u2588\u2588\u2588\u2588\u2588\u2588\u2588| 64/64 [00:00<00:00, 42581.77it/s]\n",
            "\u001b[32m2024-04-09 10:04:36.952\u001b[0m | \u001b[1mINFO    \u001b[0m | \u001b[36msrc.data.dataset\u001b[0m:\u001b[36m__getitems__\u001b[0m:\u001b[36m153\u001b[0m - \u001b[1mTransforming the outcomes to tensors...\u001b[0m\n",
            "100%|\u2588\u2588\u2588\u2588\u2588\u2588\u2588\u2588\u2588\u2588| 64/64 [00:00<00:00, 1048576.00it/s]\n",
            "\u001b[32m2024-04-09 10:04:36.956\u001b[0m | \u001b[1mINFO    \u001b[0m | \u001b[36m__main__\u001b[0m:\u001b[36m<module>\u001b[0m:\u001b[36m9\u001b[0m - \u001b[1mLoss: 0.4149627983570099\u001b[0m\n"
          ]
        },
        {
          "ename": "KeyboardInterrupt",
          "evalue": "",
          "output_type": "error",
          "traceback": [
            "\u001b[0;31m---------------------------------------------------------------------------\u001b[0m",
            "\u001b[0;31mKeyboardInterrupt\u001b[0m                         Traceback (most recent call last)",
            "Cell \u001b[0;32mIn[14], line 1\u001b[0m\n\u001b[0;32m----> 1\u001b[0m \u001b[38;5;28;43;01mfor\u001b[39;49;00m\u001b[43m \u001b[49m\u001b[43mbatch\u001b[49m\u001b[43m \u001b[49m\u001b[38;5;129;43;01min\u001b[39;49;00m\u001b[43m \u001b[49m\u001b[43mtrain_dataloader\u001b[49m\u001b[43m:\u001b[49m\n\u001b[1;32m      2\u001b[0m \u001b[43m    \u001b[49m\u001b[43mboards\u001b[49m\u001b[43m,\u001b[49m\u001b[43m \u001b[49m\u001b[43mmoves\u001b[49m\u001b[43m,\u001b[49m\u001b[43m \u001b[49m\u001b[43moutcomes\u001b[49m\u001b[43m \u001b[49m\u001b[38;5;241;43m=\u001b[39;49m\u001b[43m \u001b[49m\u001b[43mbatch\u001b[49m\n\u001b[1;32m      3\u001b[0m \u001b[43m    \u001b[49m\u001b[43moptimizer\u001b[49m\u001b[38;5;241;43m.\u001b[39;49m\u001b[43mzero_grad\u001b[49m\u001b[43m(\u001b[49m\u001b[43m)\u001b[49m\n",
            "File \u001b[0;32m~/Library/Caches/pypoetry/virtualenvs/explainable-chess-engine-ykrWa8nz-py3.11/lib/python3.11/site-packages/torch/utils/data/dataloader.py:631\u001b[0m, in \u001b[0;36m_BaseDataLoaderIter.__next__\u001b[0;34m(self)\u001b[0m\n\u001b[1;32m    628\u001b[0m \u001b[38;5;28;01mif\u001b[39;00m \u001b[38;5;28mself\u001b[39m\u001b[38;5;241m.\u001b[39m_sampler_iter \u001b[38;5;129;01mis\u001b[39;00m \u001b[38;5;28;01mNone\u001b[39;00m:\n\u001b[1;32m    629\u001b[0m     \u001b[38;5;66;03m# TODO(https://github.com/pytorch/pytorch/issues/76750)\u001b[39;00m\n\u001b[1;32m    630\u001b[0m     \u001b[38;5;28mself\u001b[39m\u001b[38;5;241m.\u001b[39m_reset()  \u001b[38;5;66;03m# type: ignore[call-arg]\u001b[39;00m\n\u001b[0;32m--> 631\u001b[0m data \u001b[38;5;241m=\u001b[39m \u001b[38;5;28;43mself\u001b[39;49m\u001b[38;5;241;43m.\u001b[39;49m\u001b[43m_next_data\u001b[49m\u001b[43m(\u001b[49m\u001b[43m)\u001b[49m\n\u001b[1;32m    632\u001b[0m \u001b[38;5;28mself\u001b[39m\u001b[38;5;241m.\u001b[39m_num_yielded \u001b[38;5;241m+\u001b[39m\u001b[38;5;241m=\u001b[39m \u001b[38;5;241m1\u001b[39m\n\u001b[1;32m    633\u001b[0m \u001b[38;5;28;01mif\u001b[39;00m \u001b[38;5;28mself\u001b[39m\u001b[38;5;241m.\u001b[39m_dataset_kind \u001b[38;5;241m==\u001b[39m _DatasetKind\u001b[38;5;241m.\u001b[39mIterable \u001b[38;5;129;01mand\u001b[39;00m \\\n\u001b[1;32m    634\u001b[0m         \u001b[38;5;28mself\u001b[39m\u001b[38;5;241m.\u001b[39m_IterableDataset_len_called \u001b[38;5;129;01mis\u001b[39;00m \u001b[38;5;129;01mnot\u001b[39;00m \u001b[38;5;28;01mNone\u001b[39;00m \u001b[38;5;129;01mand\u001b[39;00m \\\n\u001b[1;32m    635\u001b[0m         \u001b[38;5;28mself\u001b[39m\u001b[38;5;241m.\u001b[39m_num_yielded \u001b[38;5;241m>\u001b[39m \u001b[38;5;28mself\u001b[39m\u001b[38;5;241m.\u001b[39m_IterableDataset_len_called:\n",
            "File \u001b[0;32m~/Library/Caches/pypoetry/virtualenvs/explainable-chess-engine-ykrWa8nz-py3.11/lib/python3.11/site-packages/torch/utils/data/dataloader.py:675\u001b[0m, in \u001b[0;36m_SingleProcessDataLoaderIter._next_data\u001b[0;34m(self)\u001b[0m\n\u001b[1;32m    673\u001b[0m \u001b[38;5;28;01mdef\u001b[39;00m \u001b[38;5;21m_next_data\u001b[39m(\u001b[38;5;28mself\u001b[39m):\n\u001b[1;32m    674\u001b[0m     index \u001b[38;5;241m=\u001b[39m \u001b[38;5;28mself\u001b[39m\u001b[38;5;241m.\u001b[39m_next_index()  \u001b[38;5;66;03m# may raise StopIteration\u001b[39;00m\n\u001b[0;32m--> 675\u001b[0m     data \u001b[38;5;241m=\u001b[39m \u001b[38;5;28;43mself\u001b[39;49m\u001b[38;5;241;43m.\u001b[39;49m\u001b[43m_dataset_fetcher\u001b[49m\u001b[38;5;241;43m.\u001b[39;49m\u001b[43mfetch\u001b[49m\u001b[43m(\u001b[49m\u001b[43mindex\u001b[49m\u001b[43m)\u001b[49m  \u001b[38;5;66;03m# may raise StopIteration\u001b[39;00m\n\u001b[1;32m    676\u001b[0m     \u001b[38;5;28;01mif\u001b[39;00m \u001b[38;5;28mself\u001b[39m\u001b[38;5;241m.\u001b[39m_pin_memory:\n\u001b[1;32m    677\u001b[0m         data \u001b[38;5;241m=\u001b[39m _utils\u001b[38;5;241m.\u001b[39mpin_memory\u001b[38;5;241m.\u001b[39mpin_memory(data, \u001b[38;5;28mself\u001b[39m\u001b[38;5;241m.\u001b[39m_pin_memory_device)\n",
            "File \u001b[0;32m~/Library/Caches/pypoetry/virtualenvs/explainable-chess-engine-ykrWa8nz-py3.11/lib/python3.11/site-packages/torch/utils/data/_utils/fetch.py:49\u001b[0m, in \u001b[0;36m_MapDatasetFetcher.fetch\u001b[0;34m(self, possibly_batched_index)\u001b[0m\n\u001b[1;32m     47\u001b[0m \u001b[38;5;28;01mif\u001b[39;00m \u001b[38;5;28mself\u001b[39m\u001b[38;5;241m.\u001b[39mauto_collation:\n\u001b[1;32m     48\u001b[0m     \u001b[38;5;28;01mif\u001b[39;00m \u001b[38;5;28mhasattr\u001b[39m(\u001b[38;5;28mself\u001b[39m\u001b[38;5;241m.\u001b[39mdataset, \u001b[38;5;124m\"\u001b[39m\u001b[38;5;124m__getitems__\u001b[39m\u001b[38;5;124m\"\u001b[39m) \u001b[38;5;129;01mand\u001b[39;00m \u001b[38;5;28mself\u001b[39m\u001b[38;5;241m.\u001b[39mdataset\u001b[38;5;241m.\u001b[39m__getitems__:\n\u001b[0;32m---> 49\u001b[0m         data \u001b[38;5;241m=\u001b[39m \u001b[38;5;28;43mself\u001b[39;49m\u001b[38;5;241;43m.\u001b[39;49m\u001b[43mdataset\u001b[49m\u001b[38;5;241;43m.\u001b[39;49m\u001b[43m__getitems__\u001b[49m\u001b[43m(\u001b[49m\u001b[43mpossibly_batched_index\u001b[49m\u001b[43m)\u001b[49m\n\u001b[1;32m     50\u001b[0m     \u001b[38;5;28;01melse\u001b[39;00m:\n\u001b[1;32m     51\u001b[0m         data \u001b[38;5;241m=\u001b[39m [\u001b[38;5;28mself\u001b[39m\u001b[38;5;241m.\u001b[39mdataset[idx] \u001b[38;5;28;01mfor\u001b[39;00m idx \u001b[38;5;129;01min\u001b[39;00m possibly_batched_index]\n",
            "File \u001b[0;32m~/Library/Caches/pypoetry/virtualenvs/explainable-chess-engine-ykrWa8nz-py3.11/lib/python3.11/site-packages/loguru/_logger.py:1277\u001b[0m, in \u001b[0;36mLogger.catch.<locals>.Catcher.__call__.<locals>.catch_wrapper\u001b[0;34m(*args, **kwargs)\u001b[0m\n\u001b[1;32m   1275\u001b[0m \u001b[38;5;28;01mdef\u001b[39;00m \u001b[38;5;21mcatch_wrapper\u001b[39m(\u001b[38;5;241m*\u001b[39margs, \u001b[38;5;241m*\u001b[39m\u001b[38;5;241m*\u001b[39mkwargs):\n\u001b[1;32m   1276\u001b[0m     \u001b[38;5;28;01mwith\u001b[39;00m catcher:\n\u001b[0;32m-> 1277\u001b[0m         \u001b[38;5;28;01mreturn\u001b[39;00m \u001b[43mfunction\u001b[49m\u001b[43m(\u001b[49m\u001b[38;5;241;43m*\u001b[39;49m\u001b[43margs\u001b[49m\u001b[43m,\u001b[49m\u001b[43m \u001b[49m\u001b[38;5;241;43m*\u001b[39;49m\u001b[38;5;241;43m*\u001b[39;49m\u001b[43mkwargs\u001b[49m\u001b[43m)\u001b[49m\n\u001b[1;32m   1278\u001b[0m     \u001b[38;5;28;01mreturn\u001b[39;00m default\n",
            "File \u001b[0;32m~/PycharmProjects/explainable-chess-engine/src/data/dataset.py:136\u001b[0m, in \u001b[0;36mChessBoardDataset.__getitems__\u001b[0;34m(self, indices)\u001b[0m\n\u001b[1;32m    133\u001b[0m outcomes \u001b[38;5;241m=\u001b[39m []\n\u001b[1;32m    135\u001b[0m \u001b[38;5;28;01mfor\u001b[39;00m i \u001b[38;5;129;01min\u001b[39;00m indices:\n\u001b[0;32m--> 136\u001b[0m     board_sample, move_id, game_len, game_result \u001b[38;5;241m=\u001b[39m \u001b[38;5;28;43mself\u001b[39;49m\u001b[38;5;241;43m.\u001b[39;49m\u001b[43mretrieve_board\u001b[49m\u001b[43m(\u001b[49m\u001b[43mi\u001b[49m\u001b[43m)\u001b[49m\n\u001b[1;32m    137\u001b[0m     legal_moves_sample \u001b[38;5;241m=\u001b[39m \u001b[38;5;28mlist\u001b[39m(board_sample\u001b[38;5;241m.\u001b[39mlegal_moves)\n\u001b[1;32m    138\u001b[0m     outcome \u001b[38;5;241m=\u001b[39m {\u001b[38;5;124m\"\u001b[39m\u001b[38;5;124mmove_id\u001b[39m\u001b[38;5;124m\"\u001b[39m: move_id,\n\u001b[1;32m    139\u001b[0m                \u001b[38;5;124m\"\u001b[39m\u001b[38;5;124mgame_length\u001b[39m\u001b[38;5;124m\"\u001b[39m: game_len,\n\u001b[1;32m    140\u001b[0m                \u001b[38;5;124m\"\u001b[39m\u001b[38;5;124mgame_result\u001b[39m\u001b[38;5;124m\"\u001b[39m: game_result}\n",
            "File \u001b[0;32m~/Library/Caches/pypoetry/virtualenvs/explainable-chess-engine-ykrWa8nz-py3.11/lib/python3.11/site-packages/loguru/_logger.py:1277\u001b[0m, in \u001b[0;36mLogger.catch.<locals>.Catcher.__call__.<locals>.catch_wrapper\u001b[0;34m(*args, **kwargs)\u001b[0m\n\u001b[1;32m   1275\u001b[0m \u001b[38;5;28;01mdef\u001b[39;00m \u001b[38;5;21mcatch_wrapper\u001b[39m(\u001b[38;5;241m*\u001b[39margs, \u001b[38;5;241m*\u001b[39m\u001b[38;5;241m*\u001b[39mkwargs):\n\u001b[1;32m   1276\u001b[0m     \u001b[38;5;28;01mwith\u001b[39;00m catcher:\n\u001b[0;32m-> 1277\u001b[0m         \u001b[38;5;28;01mreturn\u001b[39;00m \u001b[43mfunction\u001b[49m\u001b[43m(\u001b[49m\u001b[38;5;241;43m*\u001b[39;49m\u001b[43margs\u001b[49m\u001b[43m,\u001b[49m\u001b[43m \u001b[49m\u001b[38;5;241;43m*\u001b[39;49m\u001b[38;5;241;43m*\u001b[39;49m\u001b[43mkwargs\u001b[49m\u001b[43m)\u001b[49m\n\u001b[1;32m   1278\u001b[0m     \u001b[38;5;28;01mreturn\u001b[39;00m default\n",
            "File \u001b[0;32m~/PycharmProjects/explainable-chess-engine/src/data/dataset.py:84\u001b[0m, in \u001b[0;36mChessBoardDataset.retrieve_board\u001b[0;34m(self, idx)\u001b[0m\n\u001b[1;32m     82\u001b[0m game \u001b[38;5;241m=\u001b[39m chess\u001b[38;5;241m.\u001b[39mpgn\u001b[38;5;241m.\u001b[39mread_game(pgn)\n\u001b[1;32m     83\u001b[0m \u001b[38;5;28;01mfor\u001b[39;00m j \u001b[38;5;129;01min\u001b[39;00m \u001b[38;5;28mrange\u001b[39m(game_id):\n\u001b[0;32m---> 84\u001b[0m     game \u001b[38;5;241m=\u001b[39m \u001b[43mchess\u001b[49m\u001b[38;5;241;43m.\u001b[39;49m\u001b[43mpgn\u001b[49m\u001b[38;5;241;43m.\u001b[39;49m\u001b[43mread_game\u001b[49m\u001b[43m(\u001b[49m\u001b[43mpgn\u001b[49m\u001b[43m)\u001b[49m\n\u001b[1;32m     86\u001b[0m result \u001b[38;5;241m=\u001b[39m game\u001b[38;5;241m.\u001b[39mheaders[\u001b[38;5;124m\"\u001b[39m\u001b[38;5;124mResult\u001b[39m\u001b[38;5;124m\"\u001b[39m]\n\u001b[1;32m     87\u001b[0m board \u001b[38;5;241m=\u001b[39m game\u001b[38;5;241m.\u001b[39mboard()\n",
            "File \u001b[0;32m~/Library/Caches/pypoetry/virtualenvs/explainable-chess-engine-ykrWa8nz-py3.11/lib/python3.11/site-packages/chess/pgn.py:1731\u001b[0m, in \u001b[0;36mread_game\u001b[0;34m(handle, Visitor)\u001b[0m\n\u001b[1;32m   1729\u001b[0m \u001b[38;5;28;01mif\u001b[39;00m visitor\u001b[38;5;241m.\u001b[39mbegin_parse_san(board_stack[\u001b[38;5;241m-\u001b[39m\u001b[38;5;241m1\u001b[39m], token) \u001b[38;5;129;01mis\u001b[39;00m \u001b[38;5;129;01mnot\u001b[39;00m SKIP:\n\u001b[1;32m   1730\u001b[0m     \u001b[38;5;28;01mtry\u001b[39;00m:\n\u001b[0;32m-> 1731\u001b[0m         move \u001b[38;5;241m=\u001b[39m \u001b[43mvisitor\u001b[49m\u001b[38;5;241;43m.\u001b[39;49m\u001b[43mparse_san\u001b[49m\u001b[43m(\u001b[49m\u001b[43mboard_stack\u001b[49m\u001b[43m[\u001b[49m\u001b[38;5;241;43m-\u001b[39;49m\u001b[38;5;241;43m1\u001b[39;49m\u001b[43m]\u001b[49m\u001b[43m,\u001b[49m\u001b[43m \u001b[49m\u001b[43mtoken\u001b[49m\u001b[43m)\u001b[49m\n\u001b[1;32m   1732\u001b[0m     \u001b[38;5;28;01mexcept\u001b[39;00m \u001b[38;5;167;01mValueError\u001b[39;00m \u001b[38;5;28;01mas\u001b[39;00m error:\n\u001b[1;32m   1733\u001b[0m         visitor\u001b[38;5;241m.\u001b[39mhandle_error(error)\n",
            "File \u001b[0;32m~/Library/Caches/pypoetry/virtualenvs/explainable-chess-engine-ykrWa8nz-py3.11/lib/python3.11/site-packages/chess/pgn.py:1104\u001b[0m, in \u001b[0;36mBaseVisitor.parse_san\u001b[0;34m(self, board, san)\u001b[0m\n\u001b[1;32m   1090\u001b[0m \u001b[38;5;28;01mdef\u001b[39;00m \u001b[38;5;21mparse_san\u001b[39m(\u001b[38;5;28mself\u001b[39m, board: chess\u001b[38;5;241m.\u001b[39mBoard, san: \u001b[38;5;28mstr\u001b[39m) \u001b[38;5;241m-\u001b[39m\u001b[38;5;241m>\u001b[39m chess\u001b[38;5;241m.\u001b[39mMove:\n\u001b[1;32m   1091\u001b[0m \u001b[38;5;250m    \u001b[39m\u001b[38;5;124;03m\"\"\"\u001b[39;00m\n\u001b[1;32m   1092\u001b[0m \u001b[38;5;124;03m    When the visitor is used by a parser, this is called to parse a move\u001b[39;00m\n\u001b[1;32m   1093\u001b[0m \u001b[38;5;124;03m    in standard algebraic notation.\u001b[39;00m\n\u001b[0;32m   (...)\u001b[0m\n\u001b[1;32m   1102\u001b[0m \u001b[38;5;124;03m        they can be handled for everyone.\u001b[39;00m\n\u001b[1;32m   1103\u001b[0m \u001b[38;5;124;03m    \"\"\"\u001b[39;00m\n\u001b[0;32m-> 1104\u001b[0m     \u001b[38;5;28;01mreturn\u001b[39;00m \u001b[43mboard\u001b[49m\u001b[38;5;241;43m.\u001b[39;49m\u001b[43mparse_san\u001b[49m\u001b[43m(\u001b[49m\u001b[43msan\u001b[49m\u001b[43m)\u001b[49m\n",
            "File \u001b[0;32m~/Library/Caches/pypoetry/virtualenvs/explainable-chess-engine-ykrWa8nz-py3.11/lib/python3.11/site-packages/chess/__init__.py:3077\u001b[0m, in \u001b[0;36mBoard.parse_san\u001b[0;34m(self, san)\u001b[0m\n\u001b[1;32m   3075\u001b[0m \u001b[38;5;66;03m# Match legal moves.\u001b[39;00m\n\u001b[1;32m   3076\u001b[0m matched_move \u001b[38;5;241m=\u001b[39m \u001b[38;5;28;01mNone\u001b[39;00m\n\u001b[0;32m-> 3077\u001b[0m \u001b[43m\u001b[49m\u001b[38;5;28;43;01mfor\u001b[39;49;00m\u001b[43m \u001b[49m\u001b[43mmove\u001b[49m\u001b[43m \u001b[49m\u001b[38;5;129;43;01min\u001b[39;49;00m\u001b[43m \u001b[49m\u001b[38;5;28;43mself\u001b[39;49m\u001b[38;5;241;43m.\u001b[39;49m\u001b[43mgenerate_legal_moves\u001b[49m\u001b[43m(\u001b[49m\u001b[43mfrom_mask\u001b[49m\u001b[43m,\u001b[49m\u001b[43m \u001b[49m\u001b[43mto_mask\u001b[49m\u001b[43m)\u001b[49m\u001b[43m:\u001b[49m\n\u001b[1;32m   3078\u001b[0m \u001b[43m    \u001b[49m\u001b[38;5;28;43;01mif\u001b[39;49;00m\u001b[43m \u001b[49m\u001b[43mmove\u001b[49m\u001b[38;5;241;43m.\u001b[39;49m\u001b[43mpromotion\u001b[49m\u001b[43m \u001b[49m\u001b[38;5;241;43m!=\u001b[39;49m\u001b[43m \u001b[49m\u001b[43mpromotion\u001b[49m\u001b[43m:\u001b[49m\n\u001b[1;32m   3079\u001b[0m \u001b[43m        \u001b[49m\u001b[38;5;28;43;01mcontinue\u001b[39;49;00m\n",
            "File \u001b[0;32m~/Library/Caches/pypoetry/virtualenvs/explainable-chess-engine-ykrWa8nz-py3.11/lib/python3.11/site-packages/chess/__init__.py:3588\u001b[0m, in \u001b[0;36mBoard.generate_legal_moves\u001b[0;34m(self, from_mask, to_mask)\u001b[0m\n\u001b[1;32m   3586\u001b[0m king_mask \u001b[38;5;241m=\u001b[39m \u001b[38;5;28mself\u001b[39m\u001b[38;5;241m.\u001b[39mkings \u001b[38;5;241m&\u001b[39m \u001b[38;5;28mself\u001b[39m\u001b[38;5;241m.\u001b[39moccupied_co[\u001b[38;5;28mself\u001b[39m\u001b[38;5;241m.\u001b[39mturn]\n\u001b[1;32m   3587\u001b[0m \u001b[38;5;28;01mif\u001b[39;00m king_mask:\n\u001b[0;32m-> 3588\u001b[0m     king \u001b[38;5;241m=\u001b[39m \u001b[43mmsb\u001b[49m\u001b[43m(\u001b[49m\u001b[43mking_mask\u001b[49m\u001b[43m)\u001b[49m\n\u001b[1;32m   3589\u001b[0m     blockers \u001b[38;5;241m=\u001b[39m \u001b[38;5;28mself\u001b[39m\u001b[38;5;241m.\u001b[39m_slider_blockers(king)\n\u001b[1;32m   3590\u001b[0m     checkers \u001b[38;5;241m=\u001b[39m \u001b[38;5;28mself\u001b[39m\u001b[38;5;241m.\u001b[39mattackers_mask(\u001b[38;5;129;01mnot\u001b[39;00m \u001b[38;5;28mself\u001b[39m\u001b[38;5;241m.\u001b[39mturn, king)\n",
            "File \u001b[0;32m~/Library/Caches/pypoetry/virtualenvs/explainable-chess-engine-ykrWa8nz-py3.11/lib/python3.11/site-packages/chess/__init__.py:311\u001b[0m, in \u001b[0;36mmsb\u001b[0;34m(bb)\u001b[0m\n\u001b[1;32m    308\u001b[0m         \u001b[38;5;28;01myield\u001b[39;00m r\u001b[38;5;241m.\u001b[39mbit_length() \u001b[38;5;241m-\u001b[39m \u001b[38;5;241m1\u001b[39m\n\u001b[1;32m    309\u001b[0m         bb \u001b[38;5;241m^\u001b[39m\u001b[38;5;241m=\u001b[39m r\n\u001b[0;32m--> 311\u001b[0m \u001b[38;5;28;01mdef\u001b[39;00m \u001b[38;5;21mmsb\u001b[39m(bb: Bitboard) \u001b[38;5;241m-\u001b[39m\u001b[38;5;241m>\u001b[39m \u001b[38;5;28mint\u001b[39m:\n\u001b[1;32m    312\u001b[0m     \u001b[38;5;28;01mreturn\u001b[39;00m bb\u001b[38;5;241m.\u001b[39mbit_length() \u001b[38;5;241m-\u001b[39m \u001b[38;5;241m1\u001b[39m\n\u001b[1;32m    314\u001b[0m \u001b[38;5;28;01mdef\u001b[39;00m \u001b[38;5;21mscan_reversed\u001b[39m(bb: Bitboard) \u001b[38;5;241m-\u001b[39m\u001b[38;5;241m>\u001b[39m Iterator[Square]:\n",
            "\u001b[0;31mKeyboardInterrupt\u001b[0m: "
          ]
        }
      ],
      "source": [
        "for batch in train_dataloader:\n",
        "    boards, moves, outcomes = batch\n",
        "    optimizer.zero_grad()\n",
        "    pred = model(boards).reshape(-1)\n",
        "    targets = reward_fn(outcome=outcomes, gamma=0.99)\n",
        "    loss_value = loss(pred, targets)\n",
        "    loss_value.backward()\n",
        "    optimizer.step()\n",
        "    logger.info(f'Loss: {loss_value.item()}')"
      ]
    },
    {
      "cell_type": "code",
      "id": "35b0ab7a9713d40d",
      "metadata": {
        "collapsed": false
      },
      "outputs": [],
      "source": []
    }
  ],
  "metadata": {
    "kernelspec": {
      "display_name": "Python 3",
      "language": "python",
      "name": "python3"
    },
    "language_info": {
      "codemirror_mode": {
        "name": "ipython",
        "version": 2
      },
      "file_extension": ".py",
      "mimetype": "text/x-python",
      "name": "python",
      "nbconvert_exporter": "python",
      "pygments_lexer": "ipython2",
      "version": "2.7.6"
    }
  },
  "nbformat": 4,
  "nbformat_minor": 5
}
