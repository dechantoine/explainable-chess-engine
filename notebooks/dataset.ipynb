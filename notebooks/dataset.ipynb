{
 "cells": [
  {
   "cell_type": "code",
   "execution_count": 1,
   "id": "initial_id",
   "metadata": {
    "collapsed": true,
    "ExecuteTime": {
     "end_time": "2024-03-24T15:31:52.038591Z",
     "start_time": "2024-03-24T15:31:51.529649Z"
    }
   },
   "outputs": [],
   "source": [
    "from src.data.dataset import ChessBoardDataset"
   ]
  },
  {
   "cell_type": "code",
   "outputs": [],
   "source": [
    "dataset = ChessBoardDataset(root_dir='../sample_data',\n",
    "                            transform=True,\n",
    "                            return_moves=True,\n",
    "                            return_outcome=True)"
   ],
   "metadata": {
    "collapsed": false,
    "ExecuteTime": {
     "end_time": "2024-03-24T15:31:55.573661Z",
     "start_time": "2024-03-24T15:31:52.706751Z"
    }
   },
   "id": "8d13a0562ebc4721",
   "execution_count": 2
  },
  {
   "cell_type": "code",
   "outputs": [
    {
     "data": {
      "text/plain": "['Najdorf.pgn', 'Tal.pgn', 'Morphy.pgn']"
     },
     "execution_count": 3,
     "metadata": {},
     "output_type": "execute_result"
    }
   ],
   "source": [
    "dataset.list_pgn_files"
   ],
   "metadata": {
    "collapsed": false,
    "ExecuteTime": {
     "end_time": "2024-03-24T15:31:55.574076Z",
     "start_time": "2024-03-24T15:31:55.571026Z"
    }
   },
   "id": "13b433ba98918d1",
   "execution_count": 3
  },
  {
   "cell_type": "code",
   "outputs": [
    {
     "data": {
      "text/plain": "309395"
     },
     "execution_count": 4,
     "metadata": {},
     "output_type": "execute_result"
    }
   ],
   "source": [
    "len(dataset)"
   ],
   "metadata": {
    "collapsed": false,
    "ExecuteTime": {
     "end_time": "2024-03-24T15:31:56.319638Z",
     "start_time": "2024-03-24T15:31:56.317206Z"
    }
   },
   "id": "733c7c43c9f96916",
   "execution_count": 4
  },
  {
   "cell_type": "code",
   "outputs": [
    {
     "data": {
      "text/plain": "(tensor([[[0, 0, 0, 0, 0, 0, 0, 0],\n          [0, 0, 0, 0, 0, 0, 0, 0],\n          [0, 0, 0, 0, 0, 0, 0, 0],\n          [0, 0, 0, 0, 0, 0, 0, 0],\n          [0, 0, 0, 0, 0, 0, 0, 0],\n          [0, 0, 0, 0, 0, 0, 0, 0],\n          [0, 0, 0, 0, 0, 0, 0, 0],\n          [1, 0, 0, 0, 0, 0, 0, 1]],\n \n         [[0, 0, 0, 0, 0, 0, 0, 0],\n          [0, 0, 0, 0, 0, 0, 0, 0],\n          [0, 0, 0, 0, 0, 0, 0, 0],\n          [0, 0, 0, 0, 0, 0, 0, 0],\n          [0, 0, 0, 0, 0, 0, 0, 0],\n          [0, 0, 0, 0, 0, 0, 0, 0],\n          [0, 0, 0, 0, 1, 0, 0, 0],\n          [0, 0, 0, 1, 0, 0, 0, 0]],\n \n         [[0, 0, 0, 0, 0, 0, 0, 0],\n          [0, 0, 0, 0, 0, 0, 0, 0],\n          [0, 0, 0, 0, 0, 0, 0, 0],\n          [0, 0, 0, 0, 0, 0, 1, 0],\n          [0, 0, 0, 0, 0, 0, 0, 0],\n          [0, 0, 0, 0, 0, 0, 0, 0],\n          [0, 0, 0, 0, 0, 0, 1, 0],\n          [0, 0, 0, 0, 0, 0, 0, 0]],\n \n         [[0, 0, 0, 0, 0, 0, 0, 0],\n          [0, 0, 0, 0, 0, 0, 0, 0],\n          [0, 0, 0, 0, 0, 0, 0, 0],\n          [0, 0, 0, 0, 0, 0, 0, 0],\n          [0, 0, 0, 0, 0, 0, 0, 0],\n          [0, 0, 0, 0, 0, 0, 0, 0],\n          [0, 0, 0, 1, 0, 0, 0, 0],\n          [0, 0, 0, 0, 0, 0, 0, 0]],\n \n         [[0, 0, 0, 0, 0, 0, 0, 0],\n          [0, 0, 0, 0, 0, 0, 0, 0],\n          [0, 0, 0, 0, 0, 0, 0, 0],\n          [0, 0, 0, 0, 0, 0, 0, 0],\n          [0, 0, 0, 0, 0, 0, 0, 0],\n          [0, 0, 0, 0, 0, 0, 0, 0],\n          [0, 0, 0, 0, 0, 0, 0, 0],\n          [0, 0, 0, 0, 1, 0, 0, 0]],\n \n         [[0, 0, 0, 0, 0, 0, 0, 0],\n          [0, 0, 0, 0, 0, 0, 0, 0],\n          [0, 0, 0, 0, 0, 0, 0, 0],\n          [0, 0, 0, 0, 0, 0, 0, 0],\n          [0, 0, 0, 0, 1, 0, 0, 0],\n          [0, 0, 0, 1, 0, 0, 1, 1],\n          [1, 1, 1, 0, 0, 1, 0, 0],\n          [0, 0, 0, 0, 0, 0, 0, 0]],\n \n         [[0, 1, 0, 0, 0, 0, 0, 1],\n          [0, 0, 0, 0, 0, 0, 0, 0],\n          [0, 0, 0, 0, 0, 0, 0, 0],\n          [0, 0, 0, 0, 0, 0, 0, 0],\n          [0, 0, 0, 0, 0, 0, 0, 0],\n          [0, 0, 0, 0, 0, 0, 0, 0],\n          [0, 0, 0, 0, 0, 0, 0, 0],\n          [0, 0, 0, 0, 0, 0, 0, 0]],\n \n         [[0, 0, 0, 0, 0, 0, 1, 0],\n          [0, 0, 0, 0, 0, 0, 0, 0],\n          [0, 0, 1, 0, 0, 0, 0, 0],\n          [0, 0, 0, 0, 0, 0, 0, 0],\n          [0, 0, 0, 0, 0, 0, 0, 0],\n          [0, 0, 0, 0, 0, 0, 0, 0],\n          [0, 0, 0, 0, 0, 0, 0, 0],\n          [0, 0, 0, 0, 0, 0, 0, 0]],\n \n         [[0, 0, 0, 0, 0, 0, 0, 0],\n          [0, 0, 0, 1, 0, 0, 1, 0],\n          [0, 0, 0, 0, 0, 0, 0, 0],\n          [0, 0, 0, 0, 0, 0, 0, 0],\n          [0, 0, 0, 0, 0, 0, 0, 0],\n          [0, 0, 0, 0, 0, 0, 0, 0],\n          [0, 0, 0, 0, 0, 0, 0, 0],\n          [0, 0, 0, 0, 0, 0, 0, 0]],\n \n         [[0, 0, 1, 0, 0, 0, 0, 0],\n          [0, 0, 0, 0, 0, 0, 0, 0],\n          [0, 0, 0, 0, 0, 0, 0, 0],\n          [0, 0, 0, 0, 0, 0, 0, 0],\n          [0, 0, 0, 0, 0, 0, 0, 0],\n          [0, 0, 0, 0, 0, 0, 0, 0],\n          [0, 0, 0, 0, 0, 0, 0, 0],\n          [0, 0, 0, 0, 0, 0, 0, 0]],\n \n         [[0, 0, 0, 0, 1, 0, 0, 0],\n          [0, 0, 0, 0, 0, 0, 0, 0],\n          [0, 0, 0, 0, 0, 0, 0, 0],\n          [0, 0, 0, 0, 0, 0, 0, 0],\n          [0, 0, 0, 0, 0, 0, 0, 0],\n          [0, 0, 0, 0, 0, 0, 0, 0],\n          [0, 0, 0, 0, 0, 0, 0, 0],\n          [0, 0, 0, 0, 0, 0, 0, 0]],\n \n         [[0, 0, 0, 0, 0, 0, 0, 0],\n          [1, 0, 0, 0, 1, 1, 0, 1],\n          [0, 0, 0, 1, 0, 0, 1, 0],\n          [0, 0, 1, 0, 0, 0, 0, 0],\n          [0, 1, 0, 0, 0, 0, 0, 0],\n          [0, 0, 0, 0, 0, 0, 0, 0],\n          [0, 0, 0, 0, 0, 0, 0, 0],\n          [0, 0, 0, 0, 0, 0, 0, 0]]], dtype=torch.int8),\n tensor([[0, 0, 0,  ..., 0, 0, 0],\n         [0, 0, 0,  ..., 0, 0, 0],\n         [0, 0, 0,  ..., 0, 0, 0],\n         ...,\n         [0, 0, 0,  ..., 0, 0, 0],\n         [0, 0, 0,  ..., 0, 0, 0],\n         [0, 0, 0,  ..., 1, 1, 0]], dtype=torch.int8),\n tensor([ 20, 109,   1]))"
     },
     "execution_count": 5,
     "metadata": {},
     "output_type": "execute_result"
    }
   ],
   "source": [
    "dataset[563]"
   ],
   "metadata": {
    "collapsed": false,
    "ExecuteTime": {
     "end_time": "2024-03-24T15:31:57.390290Z",
     "start_time": "2024-03-24T15:31:57.371071Z"
    }
   },
   "id": "382f6badd0e54a7",
   "execution_count": 5
  },
  {
   "cell_type": "code",
   "outputs": [
    {
     "name": "stderr",
     "output_type": "stream",
     "text": [
      "\u001B[32m2024-03-24 16:31:58.678\u001B[0m | \u001B[1mINFO    \u001B[0m | \u001B[36msrc.data.dataset\u001B[0m:\u001B[36m__getitems__\u001B[0m:\u001B[36m139\u001B[0m - \u001B[1mTransforming the boards to tensors...\u001B[0m\n",
      "100%|██████████| 3/3 [00:00<00:00, 4854.52it/s]\n",
      "\u001B[32m2024-03-24 16:31:58.688\u001B[0m | \u001B[1mINFO    \u001B[0m | \u001B[36msrc.data.dataset\u001B[0m:\u001B[36m__getitems__\u001B[0m:\u001B[36m141\u001B[0m - \u001B[1mTransforming the legal moves to tensors...\u001B[0m\n",
      "100%|██████████| 3/3 [00:00<00:00, 21006.53it/s]\n",
      "\u001B[32m2024-03-24 16:31:58.689\u001B[0m | \u001B[1mINFO    \u001B[0m | \u001B[36msrc.data.dataset\u001B[0m:\u001B[36m__getitems__\u001B[0m:\u001B[36m145\u001B[0m - \u001B[1mTransforming the outcomes to tensors...\u001B[0m\n",
      "100%|██████████| 3/3 [00:00<00:00, 47662.55it/s]\n"
     ]
    }
   ],
   "source": [
    "boards, moves, outcomes = dataset.__getitems__([345,6748,45674])"
   ],
   "metadata": {
    "collapsed": false,
    "ExecuteTime": {
     "end_time": "2024-03-24T15:31:58.694491Z",
     "start_time": "2024-03-24T15:31:58.161373Z"
    }
   },
   "id": "2dd0fa9f7f1f426f",
   "execution_count": 6
  },
  {
   "cell_type": "code",
   "outputs": [
    {
     "data": {
      "text/plain": "torch.Size([3, 12, 8, 8])"
     },
     "execution_count": 7,
     "metadata": {},
     "output_type": "execute_result"
    }
   ],
   "source": [
    "boards.shape"
   ],
   "metadata": {
    "collapsed": false,
    "ExecuteTime": {
     "end_time": "2024-03-24T15:32:03.329997Z",
     "start_time": "2024-03-24T15:32:03.327523Z"
    }
   },
   "id": "61f433f0f92f65a4",
   "execution_count": 7
  },
  {
   "cell_type": "code",
   "outputs": [
    {
     "data": {
      "text/plain": "torch.Size([3, 64, 64])"
     },
     "execution_count": 8,
     "metadata": {},
     "output_type": "execute_result"
    }
   ],
   "source": [
    "moves.shape"
   ],
   "metadata": {
    "collapsed": false,
    "ExecuteTime": {
     "end_time": "2024-03-24T15:32:03.775926Z",
     "start_time": "2024-03-24T15:32:03.774184Z"
    }
   },
   "id": "b0dbddee95eae6fd",
   "execution_count": 8
  },
  {
   "cell_type": "code",
   "outputs": [
    {
     "data": {
      "text/plain": "torch.Size([3, 3])"
     },
     "execution_count": 9,
     "metadata": {},
     "output_type": "execute_result"
    }
   ],
   "source": [
    "outcomes.shape"
   ],
   "metadata": {
    "collapsed": false,
    "ExecuteTime": {
     "end_time": "2024-03-24T15:32:04.417769Z",
     "start_time": "2024-03-24T15:32:04.414122Z"
    }
   },
   "id": "fd151720038d729a",
   "execution_count": 9
  },
  {
   "cell_type": "code",
   "outputs": [
    {
     "data": {
      "text/plain": "tensor([[83, 88, -1],\n        [44, 62, -1],\n        [45, 81,  1]])"
     },
     "execution_count": 10,
     "metadata": {},
     "output_type": "execute_result"
    }
   ],
   "source": [
    "outcomes"
   ],
   "metadata": {
    "collapsed": false,
    "ExecuteTime": {
     "end_time": "2024-03-24T15:32:05.098866Z",
     "start_time": "2024-03-24T15:32:05.093660Z"
    }
   },
   "id": "129f0d5f35c3149f",
   "execution_count": 10
  }
 ],
 "metadata": {
  "kernelspec": {
   "display_name": "Python 3",
   "language": "python",
   "name": "python3"
  },
  "language_info": {
   "codemirror_mode": {
    "name": "ipython",
    "version": 2
   },
   "file_extension": ".py",
   "mimetype": "text/x-python",
   "name": "python",
   "nbconvert_exporter": "python",
   "pygments_lexer": "ipython2",
   "version": "2.7.6"
  }
 },
 "nbformat": 4,
 "nbformat_minor": 5
}
