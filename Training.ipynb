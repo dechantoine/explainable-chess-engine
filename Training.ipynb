{
 "cells": [
  {
   "cell_type": "code",
   "execution_count": 1,
   "id": "3036be06-b655-4e93-83c4-e0021ee09607",
   "metadata": {},
   "outputs": [],
   "source": [
    "### import os\n",
    "import json\n",
    "\n",
    "import logging\n",
    "import datetime\n",
    "\n",
    "import chess\n",
    "import chess.polyglot\n",
    "import chess.pgn\n",
    "\n",
    "import numpy as np\n",
    "import torch\n",
    "import pandas as pd\n",
    "\n",
    "from utils import dict_pieces, string_to_array\n",
    "from train_functions import data_preparation, load_running_loss_evol, validation"
   ]
  },
  {
   "cell_type": "markdown",
   "id": "ebd64340-4e36-44d9-9b5e-3f1b5479a7ff",
   "metadata": {
    "tags": []
   },
   "source": [
    "## Games to tensor"
   ]
  },
  {
   "cell_type": "code",
   "execution_count": 2,
   "id": "f0f3d646-5094-47c7-b957-d6a39c48b48a",
   "metadata": {},
   "outputs": [],
   "source": [
    "#device = torch.device(\"cuda\") if torch.cuda.is_available() else torch.device(\"cpu\")\n",
    "device = torch.device(\"cpu\")\n",
    "np.random.seed(2)\n",
    "seed = 2"
   ]
  },
  {
   "cell_type": "code",
   "execution_count": 3,
   "id": "d5b0360d-d09b-4f8d-8b76-9c2da158732a",
   "metadata": {},
   "outputs": [],
   "source": [
    "gamma = 0.99\n",
    "\n",
    "tensor_games = []\n",
    "tensor_y = []\n",
    "\n",
    "for d in range(40,80):\n",
    "    with open(\"./data/games_dict/games_dict_{}.json\".format(d), \"r\") as fp:\n",
    "                dict_games = json.load(fp)\n",
    "\n",
    "    for i in range(len(dict_games)):\n",
    "        \n",
    "        if dict_games[str(i)][\"result\"] == \"W\":\n",
    "            alpha = 1\n",
    "        elif dict_games[str(i)][\"result\"] == \"B\":\n",
    "            alpha = -1\n",
    "        elif dict_games[str(i)][\"result\"] == \"D\":\n",
    "            alpha = 0\n",
    "            \n",
    "        if alpha!=0:\n",
    "            for j in range(len(dict_games[str(i)][\"moves\"])):\n",
    "                tensor_games += [np.concatenate((string_to_array(dict_games[str(i)][\"moves\"][str(j)]),\n",
    "                                                 string_to_array(dict_games[str(i)][\"moves\"][str(j)], is_white=False)))]\n",
    "            \n",
    "            tensor_y += list(np.flip(np.power((np.ones(shape=len(dict_games[str(i)][\"moves\"]))*gamma),\n",
    "                                            np.arange(len(dict_games[str(i)][\"moves\"]))))*alpha)\n",
    "    \n",
    "tensor_games = np.array(tensor_games)\n",
    "tensor_y = np.array(tensor_y)\n",
    "np.random.shuffle(tensor_games)\n",
    "np.random.shuffle(tensor_y)\n",
    "\n",
    "tensor_games = torch.from_numpy(tensor_games).type(torch.FloatTensor)\n",
    "tensor_y = torch.from_numpy(tensor_y).type(torch.FloatTensor)"
   ]
  },
  {
   "cell_type": "code",
   "execution_count": 4,
   "id": "e76befb7-6929-48ac-ae71-ffbc80bb59d6",
   "metadata": {},
   "outputs": [
    {
     "data": {
      "text/plain": [
       "(torch.Size([1974630, 12, 8, 8]), torch.Size([1974630]))"
      ]
     },
     "execution_count": 4,
     "metadata": {},
     "output_type": "execute_result"
    }
   ],
   "source": [
    "tensor_games.shape, tensor_y.shape"
   ]
  },
  {
   "cell_type": "code",
   "execution_count": 5,
   "id": "df3d92f2-a607-4c99-824a-187af4acdf19",
   "metadata": {},
   "outputs": [],
   "source": [
    "tensor_games = tensor_games.to(device)\n",
    "tensor_y = tensor_y.to(device)"
   ]
  },
  {
   "cell_type": "code",
   "execution_count": 6,
   "id": "0da720e8-290d-4b20-a3e1-220523c32d1a",
   "metadata": {},
   "outputs": [],
   "source": [
    "frac_train_test = 0.9\n",
    "batch_size = 64\n",
    "\n",
    "X_train, X_test, y_train, y_test, trainloader, testloader = data_preparation(tensor_games, tensor_y, frac_train_test, batch_size, seed)"
   ]
  },
  {
   "cell_type": "code",
   "execution_count": 7,
   "id": "c17722b1-dbe1-4f13-a508-2785fb627446",
   "metadata": {},
   "outputs": [
    {
     "data": {
      "text/plain": [
       "<AxesSubplot:>"
      ]
     },
     "execution_count": 7,
     "metadata": {},
     "output_type": "execute_result"
    },
    {
     "data": {
      "image/png": "[encoded data removed]",
      "text/plain": [
       "<Figure size 432x288 with 1 Axes>"
      ]
     },
     "metadata": {
      "needs_background": "light"
     },
     "output_type": "display_data"
    }
   ],
   "source": [
    "pd.Series(y_train.cpu().numpy()).hist()"
   ]
  },
  {
   "cell_type": "code",
   "execution_count": 8,
   "id": "73e5a444-4462-457b-8a97-70da43ce5e46",
   "metadata": {},
   "outputs": [
    {
     "data": {
      "text/plain": [
       "<AxesSubplot:>"
      ]
     },
     "execution_count": 8,
     "metadata": {},
     "output_type": "execute_result"
    },
    {
     "data": {
      "image/png": "[encoded data removed]",
      "text/plain": [
       "<Figure size 432x288 with 1 Axes>"
      ]
     },
     "metadata": {
      "needs_background": "light"
     },
     "output_type": "display_data"
    }
   ],
   "source": [
    "pd.Series(y_test.cpu().numpy()).hist()"
   ]
  },
  {
   "cell_type": "markdown",
   "id": "3d1067d9-024b-473c-af4e-6106363aa95e",
   "metadata": {
    "tags": []
   },
   "source": [
    "## CNN"
   ]
  },
  {
   "cell_type": "code",
   "execution_count": 9,
   "id": "903a7f9d-3fc4-4399-85f7-9e72021714ab",
   "metadata": {
    "tags": []
   },
   "outputs": [],
   "source": [
    "class CNN(torch.nn.Module):   \n",
    "    def __init__(self, channels, n_strides, kernel):\n",
    "        super(CNN, self).__init__()\n",
    "        self.cnn_layers = torch.nn.Sequential(\n",
    "            torch.nn.Conv2d(in_channels=12,\n",
    "                            out_channels=256,\n",
    "                            kernel_size=3,\n",
    "                            stride=1,\n",
    "                            padding=3),\n",
    "            torch.nn.Dropout(p=0.2),\n",
    "            torch.nn.BatchNorm2d(256),\n",
    "            #torch.nn.Tanh(),\n",
    "            torch.nn.MaxPool2d(kernel_size=3, stride=2),\n",
    "            torch.nn.Conv2d(in_channels=256,\n",
    "                            out_channels=64,\n",
    "                            kernel_size=3,\n",
    "                            stride=1,\n",
    "                            padding=1),\n",
    "            torch.nn.Dropout(p=0.2),\n",
    "            torch.nn.BatchNorm2d(64),\n",
    "            torch.nn.MaxPool2d(kernel_size=3, stride=2),\n",
    "            torch.nn.Conv2d(in_channels=64,\n",
    "                            out_channels=16,\n",
    "                            kernel_size=3,\n",
    "                            stride=1,\n",
    "                            padding=\"same\"),\n",
    "            torch.nn.BatchNorm2d(16),\n",
    "            #torch.nn.Tanh(),\n",
    "        )\n",
    "\n",
    "        self.linear_layers = torch.nn.Sequential(\n",
    "            torch.nn.Linear(in_features = 16*2*2,\n",
    "                            out_features=1),\n",
    "            torch.nn.Tanh(),\n",
    "        )\n",
    "\n",
    "    # Defining the forward pass    \n",
    "    def forward(self, input_tensor):\n",
    "        out_cnn = self.cnn_layers(input_tensor)\n",
    "        out_linear = self.linear_layers(out_cnn.view(out_cnn.size(0), -1))\n",
    "        return out_linear"
   ]
  },
  {
   "cell_type": "code",
   "execution_count": 10,
   "id": "22c8ccfb-4337-43c6-b92b-4712da7b4c53",
   "metadata": {},
   "outputs": [],
   "source": [
    "model_name = \"base7\"\n",
    "path_folder = \"./training/{}\".format(model_name)\n",
    "\n",
    "logger = logging.getLogger(\"training_logger\")\n",
    "logger.setLevel(logging.INFO)\n",
    "logging.basicConfig(filename=path_folder + \"/train_logs.log\", level=logging.INFO)\n",
    "\n",
    "resume_training_at_epoch=0\n",
    "epochs = 300\n",
    "eta = (10**-3)\n",
    "w_d = 0  # défaut = 0\n",
    "\n",
    "\n",
    "model = CNN(channels=[512,128], n_strides=[1,1], kernel=[5,3]).to(device)\n",
    "if resume_training_at_epoch>0:\n",
    "    checkpoint = torch.load(path_folder + \"/model_at_epoch_{}.pt\".format(resume_training_at_epoch), map_location=device)\n",
    "    model.load_state_dict(checkpoint['model_state_dict'])\n",
    "    optimizer = torch.optim.Adam(params=model.parameters(), lr=eta, weight_decay=w_d)\n",
    "    optimizer.load_state_dict(checkpoint['optimizer_state_dict'])\n",
    "    print(\"model loaded\")\n",
    "else:\n",
    "    optimizer = torch.optim.Adam(params=model.parameters(), lr=eta, weight_decay=w_d)"
   ]
  },
  {
   "cell_type": "code",
   "execution_count": 11,
   "id": "352d8991-f5ad-4620-b1ec-c527e16b1605",
   "metadata": {},
   "outputs": [
    {
     "data": {
      "text/plain": [
       "torch.Size([2, 256, 12, 12])"
      ]
     },
     "execution_count": 11,
     "metadata": {},
     "output_type": "execute_result"
    }
   ],
   "source": [
    "model.cnn_layers[0](testloader.dataset[:2][0]).shape"
   ]
  },
  {
   "cell_type": "code",
   "execution_count": 12,
   "id": "82741336-b985-45e8-bd40-eb8717660972",
   "metadata": {},
   "outputs": [
    {
     "name": "stderr",
     "output_type": "stream",
     "text": [
      "/opt/conda/lib/python3.7/site-packages/torch/nn/functional.py:718: UserWarning: Named tensors and all their associated APIs are an experimental feature and subject to change. Please do not use them for anything important until they are released as stable. (Triggered internally at  /opt/conda/conda-bld/pytorch_1623448265233/work/c10/core/TensorImpl.h:1156.)\n",
      "  return torch.max_pool2d(input, kernel_size, stride, padding, dilation, ceil_mode)\n"
     ]
    },
    {
     "data": {
      "text/plain": [
       "torch.Size([2, 16, 2, 2])"
      ]
     },
     "execution_count": 12,
     "metadata": {},
     "output_type": "execute_result"
    }
   ],
   "source": [
    "model.cnn_layers(testloader.dataset[:2][0]).shape"
   ]
  },
  {
   "cell_type": "code",
   "execution_count": 13,
   "id": "d271fa88-df79-489b-900a-a96b563519a8",
   "metadata": {},
   "outputs": [
    {
     "data": {
      "text/plain": [
       "tensor([[-0.5251],\n",
       "        [-0.0409]], grad_fn=<TanhBackward>)"
      ]
     },
     "execution_count": 13,
     "metadata": {},
     "output_type": "execute_result"
    }
   ],
   "source": [
    "model(testloader.dataset[:2][0])"
   ]
  },
  {
   "cell_type": "code",
   "execution_count": 14,
   "id": "c29c4718-838b-4918-b93f-017c57fd4d9f",
   "metadata": {},
   "outputs": [],
   "source": [
    "def loss_fn(outputs, targets):\n",
    "    return torch.nn.MSELoss()(outputs, targets)"
   ]
  },
  {
   "cell_type": "code",
   "execution_count": 15,
   "id": "97ace48b-813f-4b8b-b6a9-423bdbb8fce5",
   "metadata": {},
   "outputs": [],
   "source": [
    "def training(n_epochs, resume_at_epoch=0, verbose_iteration=1000, checkpoint_epochs=5):\n",
    "    \n",
    "    running_loss_evol = load_running_loss_evol(path_folder, resume_at_epoch)\n",
    "    running_loss_evol.to_csv(path_folder + \"/loss_evol.csv\")\n",
    "    \n",
    "    logger = logging.getLogger(\"training_logger\")\n",
    "    start_training = datetime.datetime.now()\n",
    "    logger.info(\"                         /// Start training model from epoch={} to epoch={} ///                         \".format(resume_at_epoch, n_epochs-1))\n",
    "    logger.info(\"                                       {}                                       \".format(start_training))\n",
    "    \n",
    "    for epoch in np.arange(resume_at_epoch, n_epochs, 1):\n",
    "        start_epoch = datetime.datetime.now()\n",
    "        logger.info(\"---------------------------------------------- Epoch #{} ----------------------------------------------\".format(epoch))\n",
    "        logger.info(\"                                       {}                                       \".format(start_epoch))\n",
    "        running_loss = 0.0\n",
    "        model.train()\n",
    "        \n",
    "        start_batchs = datetime.datetime.now()\n",
    "        for i, batch in enumerate(trainloader, 0):\n",
    "                \n",
    "            input_boards = batch[0].to(device)\n",
    "            labels = batch[1].to(device)\n",
    "\n",
    "            optimizer.zero_grad()\n",
    "            outputs = model(input_boards)\n",
    "\n",
    "            loss = loss_fn(torch.reshape(outputs, (-1,)), labels)\n",
    "            loss.backward()\n",
    "            optimizer.step()\n",
    "\n",
    "            running_loss += loss.item()\n",
    "\n",
    "            # print statistics\n",
    "            if int(i+1) % verbose_iteration == 0:\n",
    "                batchs_duration = (datetime.datetime.now() - start_batchs).seconds\n",
    "                logger.info(\"----> Batch #{}, loss={:.6f}, duration={} seconds\".format(i+1, running_loss / verbose_iteration, batchs_duration))\n",
    "                running_loss_evol.loc[len(running_loss_evol),\"epoch\"] = epoch\n",
    "                running_loss_evol.loc[len(running_loss_evol)-1,\"batch\"] = i+1\n",
    "                running_loss_evol.loc[len(running_loss_evol)-1,\"mean loss\"] = running_loss / verbose_iteration\n",
    "                running_loss_evol.loc[len(running_loss_evol)-1,\"learning rate\"] = eta\n",
    "                running_loss_evol.loc[len(running_loss_evol)-1,\"duration\"] = batchs_duration\n",
    "                running_loss = 0.0  \n",
    "                running_loss_evol.to_csv(path_folder + \"/loss_evol.csv\")\n",
    "                start_batchs = datetime.datetime.now()\n",
    "\n",
    "        # save validation results\n",
    "        dict_distribs, dict_stats = validation(model, testloader, device)\n",
    "        dict_distribs, dict_stats = dict_distribs.fillna(0).to_dict(), dict_stats.fillna(0).to_dict()\n",
    "        \n",
    "        epoch_duration = (datetime.datetime.now() - start_epoch).seconds\n",
    "        \n",
    "        with open(path_folder + \"/validation_results.json\") as fp:\n",
    "            val_results = json.load(fp)\n",
    "            val_results[\"epoch {}\".format(epoch)] = {\"duration\": epoch_duration,\n",
    "                                                     \"results_distrib\": dict_distribs,\n",
    "                                                     \"results_stats\" : dict_stats}\n",
    "        with open(path_folder + \"/validation_results.json\", 'w') as fp:\n",
    "            json.dump(val_results, fp, indent=4)\n",
    "\n",
    "            \n",
    "        if int(epoch+1) % checkpoint_epochs == 0:\n",
    "            # save model & optimizer\n",
    "            torch.save({\n",
    "                'epoch': epoch,\n",
    "                'model_state_dict': model.state_dict(),\n",
    "                'optimizer_state_dict': optimizer.state_dict(),\n",
    "                'loss': loss},path_folder + \"/model_at_epoch_{}.pt\".format(epoch+1))\n",
    "        \n",
    "    logger.info(\"                                       {}                                       \".format(datetime.datetime.now()))\n",
    "    logger.info(\"                           /// End training model from epoch={} to epoch={} ///                           \".format(resume_at_epoch, n_epochs-1))"
   ]
  },
  {
   "cell_type": "code",
   "execution_count": 16,
   "id": "7bef98a9-6fec-4400-a514-3cbcbc3a6b4b",
   "metadata": {},
   "outputs": [
    {
     "ename": "KeyboardInterrupt",
     "evalue": "",
     "output_type": "error",
     "traceback": [
      "\u001b[0;31m---------------------------------------------------------------------------\u001b[0m",
      "\u001b[0;31mKeyboardInterrupt\u001b[0m                         Traceback (most recent call last)",
      "\u001b[0;32m/tmp/ipykernel_34898/1307792474.py\u001b[0m in \u001b[0;36m<module>\u001b[0;34m\u001b[0m\n\u001b[1;32m      1\u001b[0m \u001b[0mmodel\u001b[0m\u001b[0;34m.\u001b[0m\u001b[0mto\u001b[0m\u001b[0;34m(\u001b[0m\u001b[0mdevice\u001b[0m\u001b[0;34m)\u001b[0m\u001b[0;34m\u001b[0m\u001b[0;34m\u001b[0m\u001b[0m\n\u001b[1;32m      2\u001b[0m \u001b[0;34m\u001b[0m\u001b[0m\n\u001b[0;32m----> 3\u001b[0;31m \u001b[0mtraining\u001b[0m\u001b[0;34m(\u001b[0m\u001b[0mn_epochs\u001b[0m\u001b[0;34m=\u001b[0m\u001b[0;36m500\u001b[0m\u001b[0;34m,\u001b[0m \u001b[0mresume_at_epoch\u001b[0m\u001b[0;34m=\u001b[0m\u001b[0mresume_training_at_epoch\u001b[0m\u001b[0;34m,\u001b[0m \u001b[0mverbose_iteration\u001b[0m\u001b[0;34m=\u001b[0m\u001b[0;36m5000\u001b[0m\u001b[0;34m,\u001b[0m \u001b[0mcheckpoint_epochs\u001b[0m\u001b[0;34m=\u001b[0m\u001b[0;36m5\u001b[0m\u001b[0;34m)\u001b[0m\u001b[0;34m\u001b[0m\u001b[0;34m\u001b[0m\u001b[0m\n\u001b[0m",
      "\u001b[0;32m/tmp/ipykernel_34898/3956925762.py\u001b[0m in \u001b[0;36mtraining\u001b[0;34m(n_epochs, resume_at_epoch, verbose_iteration, checkpoint_epochs)\u001b[0m\n\u001b[1;32m     26\u001b[0m \u001b[0;34m\u001b[0m\u001b[0m\n\u001b[1;32m     27\u001b[0m             \u001b[0mloss\u001b[0m \u001b[0;34m=\u001b[0m \u001b[0mloss_fn\u001b[0m\u001b[0;34m(\u001b[0m\u001b[0mtorch\u001b[0m\u001b[0;34m.\u001b[0m\u001b[0mreshape\u001b[0m\u001b[0;34m(\u001b[0m\u001b[0moutputs\u001b[0m\u001b[0;34m,\u001b[0m \u001b[0;34m(\u001b[0m\u001b[0;34m-\u001b[0m\u001b[0;36m1\u001b[0m\u001b[0;34m,\u001b[0m\u001b[0;34m)\u001b[0m\u001b[0;34m)\u001b[0m\u001b[0;34m,\u001b[0m \u001b[0mlabels\u001b[0m\u001b[0;34m)\u001b[0m\u001b[0;34m\u001b[0m\u001b[0;34m\u001b[0m\u001b[0m\n\u001b[0;32m---> 28\u001b[0;31m             \u001b[0mloss\u001b[0m\u001b[0;34m.\u001b[0m\u001b[0mbackward\u001b[0m\u001b[0;34m(\u001b[0m\u001b[0;34m)\u001b[0m\u001b[0;34m\u001b[0m\u001b[0;34m\u001b[0m\u001b[0m\n\u001b[0m\u001b[1;32m     29\u001b[0m             \u001b[0moptimizer\u001b[0m\u001b[0;34m.\u001b[0m\u001b[0mstep\u001b[0m\u001b[0;34m(\u001b[0m\u001b[0;34m)\u001b[0m\u001b[0;34m\u001b[0m\u001b[0;34m\u001b[0m\u001b[0m\n\u001b[1;32m     30\u001b[0m \u001b[0;34m\u001b[0m\u001b[0m\n",
      "\u001b[0;32m/opt/conda/lib/python3.7/site-packages/torch/_tensor.py\u001b[0m in \u001b[0;36mbackward\u001b[0;34m(self, gradient, retain_graph, create_graph, inputs)\u001b[0m\n\u001b[1;32m    253\u001b[0m                 \u001b[0mcreate_graph\u001b[0m\u001b[0;34m=\u001b[0m\u001b[0mcreate_graph\u001b[0m\u001b[0;34m,\u001b[0m\u001b[0;34m\u001b[0m\u001b[0;34m\u001b[0m\u001b[0m\n\u001b[1;32m    254\u001b[0m                 inputs=inputs)\n\u001b[0;32m--> 255\u001b[0;31m         \u001b[0mtorch\u001b[0m\u001b[0;34m.\u001b[0m\u001b[0mautograd\u001b[0m\u001b[0;34m.\u001b[0m\u001b[0mbackward\u001b[0m\u001b[0;34m(\u001b[0m\u001b[0mself\u001b[0m\u001b[0;34m,\u001b[0m \u001b[0mgradient\u001b[0m\u001b[0;34m,\u001b[0m \u001b[0mretain_graph\u001b[0m\u001b[0;34m,\u001b[0m \u001b[0mcreate_graph\u001b[0m\u001b[0;34m,\u001b[0m \u001b[0minputs\u001b[0m\u001b[0;34m=\u001b[0m\u001b[0minputs\u001b[0m\u001b[0;34m)\u001b[0m\u001b[0;34m\u001b[0m\u001b[0;34m\u001b[0m\u001b[0m\n\u001b[0m\u001b[1;32m    256\u001b[0m \u001b[0;34m\u001b[0m\u001b[0m\n\u001b[1;32m    257\u001b[0m     \u001b[0;32mdef\u001b[0m \u001b[0mregister_hook\u001b[0m\u001b[0;34m(\u001b[0m\u001b[0mself\u001b[0m\u001b[0;34m,\u001b[0m \u001b[0mhook\u001b[0m\u001b[0;34m)\u001b[0m\u001b[0;34m:\u001b[0m\u001b[0;34m\u001b[0m\u001b[0;34m\u001b[0m\u001b[0m\n",
      "\u001b[0;32m/opt/conda/lib/python3.7/site-packages/torch/autograd/__init__.py\u001b[0m in \u001b[0;36mbackward\u001b[0;34m(tensors, grad_tensors, retain_graph, create_graph, grad_variables, inputs)\u001b[0m\n\u001b[1;32m    147\u001b[0m     Variable._execution_engine.run_backward(\n\u001b[1;32m    148\u001b[0m         \u001b[0mtensors\u001b[0m\u001b[0;34m,\u001b[0m \u001b[0mgrad_tensors_\u001b[0m\u001b[0;34m,\u001b[0m \u001b[0mretain_graph\u001b[0m\u001b[0;34m,\u001b[0m \u001b[0mcreate_graph\u001b[0m\u001b[0;34m,\u001b[0m \u001b[0minputs\u001b[0m\u001b[0;34m,\u001b[0m\u001b[0;34m\u001b[0m\u001b[0;34m\u001b[0m\u001b[0m\n\u001b[0;32m--> 149\u001b[0;31m         allow_unreachable=True, accumulate_grad=True)  # allow_unreachable flag\n\u001b[0m\u001b[1;32m    150\u001b[0m \u001b[0;34m\u001b[0m\u001b[0m\n\u001b[1;32m    151\u001b[0m \u001b[0;34m\u001b[0m\u001b[0m\n",
      "\u001b[0;31mKeyboardInterrupt\u001b[0m: "
     ]
    }
   ],
   "source": [
    "model.to(device)\n",
    "\n",
    "training(n_epochs=500, resume_at_epoch=resume_training_at_epoch, verbose_iteration=5000, checkpoint_epochs=5)"
   ]
  },
  {
   "cell_type": "code",
   "execution_count": null,
   "id": "255e4338-18bf-44bf-8757-a3a6947f0065",
   "metadata": {},
   "outputs": [],
   "source": []
  }
 ],
 "metadata": {
  "environment": {
   "name": "pytorch-gpu.1-9.m75",
   "type": "gcloud",
   "uri": "gcr.io/deeplearning-platform-release/pytorch-gpu.1-9:m75"
  },
  "kernelspec": {
   "display_name": "Python 3",
   "language": "python",
   "name": "python3"
  },
  "language_info": {
   "codemirror_mode": {
    "name": "ipython",
    "version": 3
   },
   "file_extension": ".py",
   "mimetype": "text/x-python",
   "name": "python",
   "nbconvert_exporter": "python",
   "pygments_lexer": "ipython3",
   "version": "3.7.10"
  }
 },
 "nbformat": 4,
 "nbformat_minor": 5
}
